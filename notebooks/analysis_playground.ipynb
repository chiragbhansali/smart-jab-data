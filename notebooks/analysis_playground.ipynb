{
 "metadata": {
  "language_info": {
   "codemirror_mode": {
    "name": "ipython",
    "version": 3
   },
   "file_extension": ".py",
   "mimetype": "text/x-python",
   "name": "python",
   "nbconvert_exporter": "python",
   "pygments_lexer": "ipython3",
   "version": "3.8.3"
  },
  "orig_nbformat": 2,
  "kernelspec": {
   "name": "python383jvsc74a57bd01950b42f595e65911162d8261c0e2386a7fc994eedaa7fcd280381dcee231f25",
   "display_name": "Python 3.8.3 64-bit ('base': conda)"
  }
 },
 "nbformat": 4,
 "nbformat_minor": 2,
 "cells": [
  {
   "cell_type": "code",
   "execution_count": 16,
   "metadata": {},
   "outputs": [],
   "source": [
    "import pandas as pd\n",
    "import numpy as np\n",
    "import datetime as dt\n",
    "import math\n",
    "import time"
   ]
  },
  {
   "cell_type": "code",
   "execution_count": 19,
   "metadata": {},
   "outputs": [
    {
     "output_type": "stream",
     "name": "stdout",
     "text": [
      "F:\\coding\\projects\\cowin\\smart-jab-data\n"
     ]
    }
   ],
   "source": [
    "%cd F:/coding/projects/cowin/smart-jab-data"
   ]
  },
  {
   "cell_type": "code",
   "execution_count": 32,
   "metadata": {},
   "outputs": [],
   "source": [
    "df = pd.read_csv(\"F:/coding/projects/cowin/smart-jab-data/centers_top100_hesitancy.csv\")"
   ]
  },
  {
   "cell_type": "code",
   "execution_count": 33,
   "metadata": {},
   "outputs": [
    {
     "output_type": "execute_result",
     "data": {
      "text/plain": [
       "       Unnamed: 0                     Center Name  Center ID District  \\\n",
       "0               0  GCVC - ENUGUPALEM PHC-2ND DOSE     600081   Guntur   \n",
       "1               1             GCVC - PONNURU UFWC     715288   Guntur   \n",
       "2               2    GCVC - MALLIKARJUNAPETA UPHC     583843   Guntur   \n",
       "3               3             GCVC - GURAZALA CHC     599651   Guntur   \n",
       "4               4    GCVC - KAKUMANU PHC-2ND DOSE     600023   Guntur   \n",
       "...           ...                             ...        ...      ...   \n",
       "15710       15704                   IQCityMCH-Kol     725010  Kolkata   \n",
       "15711       15705  School Of Tropical Medicine CO     676442  Kolkata   \n",
       "15712       15706                BELLE VUE CLINIC     569021  Kolkata   \n",
       "15713       15707                  SURAKSHA ELGIN     729865  Kolkata   \n",
       "15714       15708              SURAKSHA Kalikapur     729750  Kolkata   \n",
       "\n",
       "       District ID  PIN Code           State Paid/Free  Minimum Age  \\\n",
       "0                5    522649  Andhra Pradesh      Free           45   \n",
       "1                5    522124  Andhra Pradesh      Free           45   \n",
       "2                5    522002  Andhra Pradesh      Free           45   \n",
       "3                5    522415  Andhra Pradesh      Free           45   \n",
       "4                5    522112  Andhra Pradesh      Free           45   \n",
       "...            ...       ...             ...       ...          ...   \n",
       "15710          725    700054     West Bengal      Paid           18   \n",
       "15711          725    700073     West Bengal      Free           45   \n",
       "15712          725    700014     West Bengal      Paid           18   \n",
       "15713          725    700020     West Bengal      Paid           45   \n",
       "15714          725    700073     West Bengal      Paid           45   \n",
       "\n",
       "          Vaccine  ...  22-Oct  23-Oct  24-Oct  25-Oct  26-Oct  27-Oct  \\\n",
       "0      COVISHIELD  ...     NaN     NaN     NaN     NaN     NaN     NaN   \n",
       "1      COVISHIELD  ...     NaN     NaN     NaN     NaN     NaN     NaN   \n",
       "2         COVAXIN  ...     NaN     NaN     NaN     NaN     NaN     NaN   \n",
       "3      COVISHIELD  ...     NaN     NaN     NaN     NaN     NaN     NaN   \n",
       "4      COVISHIELD  ...     NaN     NaN     NaN     NaN     NaN     NaN   \n",
       "...           ...  ...     ...     ...     ...     ...     ...     ...   \n",
       "15710  COVISHIELD  ...     NaN     NaN     NaN     NaN     NaN     NaN   \n",
       "15711     COVAXIN  ...     NaN     NaN     NaN     NaN     NaN     NaN   \n",
       "15712  COVISHIELD  ...     NaN     NaN     NaN     NaN     NaN     NaN   \n",
       "15713  COVISHIELD  ...     NaN     NaN     NaN     NaN     NaN     NaN   \n",
       "15714  COVISHIELD  ...     NaN     NaN     NaN     NaN     NaN     NaN   \n",
       "\n",
       "       28-Oct  29-Oct  30-Oct  31-Oct  \n",
       "0         NaN     NaN     NaN     NaN  \n",
       "1         NaN     NaN     NaN     NaN  \n",
       "2         NaN     NaN     NaN     NaN  \n",
       "3         NaN     NaN     NaN     NaN  \n",
       "4         NaN     NaN     NaN     NaN  \n",
       "...       ...     ...     ...     ...  \n",
       "15710     NaN     NaN     NaN     NaN  \n",
       "15711     NaN     NaN     NaN     NaN  \n",
       "15712     NaN     NaN     NaN     NaN  \n",
       "15713     NaN     NaN     NaN     NaN  \n",
       "15714     NaN     NaN     NaN     NaN  \n",
       "\n",
       "[15715 rows x 170 columns]"
      ],
      "text/html": "<div>\n<style scoped>\n    .dataframe tbody tr th:only-of-type {\n        vertical-align: middle;\n    }\n\n    .dataframe tbody tr th {\n        vertical-align: top;\n    }\n\n    .dataframe thead th {\n        text-align: right;\n    }\n</style>\n<table border=\"1\" class=\"dataframe\">\n  <thead>\n    <tr style=\"text-align: right;\">\n      <th></th>\n      <th>Unnamed: 0</th>\n      <th>Center Name</th>\n      <th>Center ID</th>\n      <th>District</th>\n      <th>District ID</th>\n      <th>PIN Code</th>\n      <th>State</th>\n      <th>Paid/Free</th>\n      <th>Minimum Age</th>\n      <th>Vaccine</th>\n      <th>...</th>\n      <th>22-Oct</th>\n      <th>23-Oct</th>\n      <th>24-Oct</th>\n      <th>25-Oct</th>\n      <th>26-Oct</th>\n      <th>27-Oct</th>\n      <th>28-Oct</th>\n      <th>29-Oct</th>\n      <th>30-Oct</th>\n      <th>31-Oct</th>\n    </tr>\n  </thead>\n  <tbody>\n    <tr>\n      <th>0</th>\n      <td>0</td>\n      <td>GCVC - ENUGUPALEM PHC-2ND DOSE</td>\n      <td>600081</td>\n      <td>Guntur</td>\n      <td>5</td>\n      <td>522649</td>\n      <td>Andhra Pradesh</td>\n      <td>Free</td>\n      <td>45</td>\n      <td>COVISHIELD</td>\n      <td>...</td>\n      <td>NaN</td>\n      <td>NaN</td>\n      <td>NaN</td>\n      <td>NaN</td>\n      <td>NaN</td>\n      <td>NaN</td>\n      <td>NaN</td>\n      <td>NaN</td>\n      <td>NaN</td>\n      <td>NaN</td>\n    </tr>\n    <tr>\n      <th>1</th>\n      <td>1</td>\n      <td>GCVC - PONNURU UFWC</td>\n      <td>715288</td>\n      <td>Guntur</td>\n      <td>5</td>\n      <td>522124</td>\n      <td>Andhra Pradesh</td>\n      <td>Free</td>\n      <td>45</td>\n      <td>COVISHIELD</td>\n      <td>...</td>\n      <td>NaN</td>\n      <td>NaN</td>\n      <td>NaN</td>\n      <td>NaN</td>\n      <td>NaN</td>\n      <td>NaN</td>\n      <td>NaN</td>\n      <td>NaN</td>\n      <td>NaN</td>\n      <td>NaN</td>\n    </tr>\n    <tr>\n      <th>2</th>\n      <td>2</td>\n      <td>GCVC - MALLIKARJUNAPETA UPHC</td>\n      <td>583843</td>\n      <td>Guntur</td>\n      <td>5</td>\n      <td>522002</td>\n      <td>Andhra Pradesh</td>\n      <td>Free</td>\n      <td>45</td>\n      <td>COVAXIN</td>\n      <td>...</td>\n      <td>NaN</td>\n      <td>NaN</td>\n      <td>NaN</td>\n      <td>NaN</td>\n      <td>NaN</td>\n      <td>NaN</td>\n      <td>NaN</td>\n      <td>NaN</td>\n      <td>NaN</td>\n      <td>NaN</td>\n    </tr>\n    <tr>\n      <th>3</th>\n      <td>3</td>\n      <td>GCVC - GURAZALA CHC</td>\n      <td>599651</td>\n      <td>Guntur</td>\n      <td>5</td>\n      <td>522415</td>\n      <td>Andhra Pradesh</td>\n      <td>Free</td>\n      <td>45</td>\n      <td>COVISHIELD</td>\n      <td>...</td>\n      <td>NaN</td>\n      <td>NaN</td>\n      <td>NaN</td>\n      <td>NaN</td>\n      <td>NaN</td>\n      <td>NaN</td>\n      <td>NaN</td>\n      <td>NaN</td>\n      <td>NaN</td>\n      <td>NaN</td>\n    </tr>\n    <tr>\n      <th>4</th>\n      <td>4</td>\n      <td>GCVC - KAKUMANU PHC-2ND DOSE</td>\n      <td>600023</td>\n      <td>Guntur</td>\n      <td>5</td>\n      <td>522112</td>\n      <td>Andhra Pradesh</td>\n      <td>Free</td>\n      <td>45</td>\n      <td>COVISHIELD</td>\n      <td>...</td>\n      <td>NaN</td>\n      <td>NaN</td>\n      <td>NaN</td>\n      <td>NaN</td>\n      <td>NaN</td>\n      <td>NaN</td>\n      <td>NaN</td>\n      <td>NaN</td>\n      <td>NaN</td>\n      <td>NaN</td>\n    </tr>\n    <tr>\n      <th>...</th>\n      <td>...</td>\n      <td>...</td>\n      <td>...</td>\n      <td>...</td>\n      <td>...</td>\n      <td>...</td>\n      <td>...</td>\n      <td>...</td>\n      <td>...</td>\n      <td>...</td>\n      <td>...</td>\n      <td>...</td>\n      <td>...</td>\n      <td>...</td>\n      <td>...</td>\n      <td>...</td>\n      <td>...</td>\n      <td>...</td>\n      <td>...</td>\n      <td>...</td>\n      <td>...</td>\n    </tr>\n    <tr>\n      <th>15710</th>\n      <td>15704</td>\n      <td>IQCityMCH-Kol</td>\n      <td>725010</td>\n      <td>Kolkata</td>\n      <td>725</td>\n      <td>700054</td>\n      <td>West Bengal</td>\n      <td>Paid</td>\n      <td>18</td>\n      <td>COVISHIELD</td>\n      <td>...</td>\n      <td>NaN</td>\n      <td>NaN</td>\n      <td>NaN</td>\n      <td>NaN</td>\n      <td>NaN</td>\n      <td>NaN</td>\n      <td>NaN</td>\n      <td>NaN</td>\n      <td>NaN</td>\n      <td>NaN</td>\n    </tr>\n    <tr>\n      <th>15711</th>\n      <td>15705</td>\n      <td>School Of Tropical Medicine CO</td>\n      <td>676442</td>\n      <td>Kolkata</td>\n      <td>725</td>\n      <td>700073</td>\n      <td>West Bengal</td>\n      <td>Free</td>\n      <td>45</td>\n      <td>COVAXIN</td>\n      <td>...</td>\n      <td>NaN</td>\n      <td>NaN</td>\n      <td>NaN</td>\n      <td>NaN</td>\n      <td>NaN</td>\n      <td>NaN</td>\n      <td>NaN</td>\n      <td>NaN</td>\n      <td>NaN</td>\n      <td>NaN</td>\n    </tr>\n    <tr>\n      <th>15712</th>\n      <td>15706</td>\n      <td>BELLE VUE CLINIC</td>\n      <td>569021</td>\n      <td>Kolkata</td>\n      <td>725</td>\n      <td>700014</td>\n      <td>West Bengal</td>\n      <td>Paid</td>\n      <td>18</td>\n      <td>COVISHIELD</td>\n      <td>...</td>\n      <td>NaN</td>\n      <td>NaN</td>\n      <td>NaN</td>\n      <td>NaN</td>\n      <td>NaN</td>\n      <td>NaN</td>\n      <td>NaN</td>\n      <td>NaN</td>\n      <td>NaN</td>\n      <td>NaN</td>\n    </tr>\n    <tr>\n      <th>15713</th>\n      <td>15707</td>\n      <td>SURAKSHA ELGIN</td>\n      <td>729865</td>\n      <td>Kolkata</td>\n      <td>725</td>\n      <td>700020</td>\n      <td>West Bengal</td>\n      <td>Paid</td>\n      <td>45</td>\n      <td>COVISHIELD</td>\n      <td>...</td>\n      <td>NaN</td>\n      <td>NaN</td>\n      <td>NaN</td>\n      <td>NaN</td>\n      <td>NaN</td>\n      <td>NaN</td>\n      <td>NaN</td>\n      <td>NaN</td>\n      <td>NaN</td>\n      <td>NaN</td>\n    </tr>\n    <tr>\n      <th>15714</th>\n      <td>15708</td>\n      <td>SURAKSHA Kalikapur</td>\n      <td>729750</td>\n      <td>Kolkata</td>\n      <td>725</td>\n      <td>700073</td>\n      <td>West Bengal</td>\n      <td>Paid</td>\n      <td>45</td>\n      <td>COVISHIELD</td>\n      <td>...</td>\n      <td>NaN</td>\n      <td>NaN</td>\n      <td>NaN</td>\n      <td>NaN</td>\n      <td>NaN</td>\n      <td>NaN</td>\n      <td>NaN</td>\n      <td>NaN</td>\n      <td>NaN</td>\n      <td>NaN</td>\n    </tr>\n  </tbody>\n</table>\n<p>15715 rows × 170 columns</p>\n</div>"
     },
     "metadata": {},
     "execution_count": 33
    }
   ],
   "source": [
    "df"
   ]
  },
  {
   "cell_type": "code",
   "execution_count": 34,
   "metadata": {},
   "outputs": [],
   "source": [
    "def roundup(x):\n",
    "    return int(math.ceil(x / 100.0)) * 100"
   ]
  },
  {
   "cell_type": "code",
   "execution_count": 35,
   "metadata": {},
   "outputs": [],
   "source": [
    "for index, row in df.iterrows():\n",
    "    currentDoseCapacity = df.loc[index, \"Dose Capacity\"]\n",
    "    df.loc[index, \"Dose Capacity\"] = roundup(currentDoseCapacity)"
   ]
  },
  {
   "cell_type": "code",
   "execution_count": 36,
   "metadata": {},
   "outputs": [],
   "source": [
    "df.to_csv(\"./centers_top100_hesitancy.csv\")"
   ]
  },
  {
   "cell_type": "code",
   "execution_count": null,
   "metadata": {},
   "outputs": [],
   "source": []
  }
 ]
}