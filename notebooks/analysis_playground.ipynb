{
 "metadata": {
  "language_info": {
   "codemirror_mode": {
    "name": "ipython",
    "version": 3
   },
   "file_extension": ".py",
   "mimetype": "text/x-python",
   "name": "python",
   "nbconvert_exporter": "python",
   "pygments_lexer": "ipython3",
   "version": "3.8.3"
  },
  "orig_nbformat": 2,
  "kernelspec": {
   "name": "python383jvsc74a57bd01950b42f595e65911162d8261c0e2386a7fc994eedaa7fcd280381dcee231f25",
   "display_name": "Python 3.8.3 64-bit ('base': conda)"
  }
 },
 "nbformat": 4,
 "nbformat_minor": 2,
 "cells": [
  {
   "cell_type": "code",
   "execution_count": 2,
   "metadata": {},
   "outputs": [],
   "source": [
    "import pandas as pd\n",
    "import numpy as np\n",
    "import datetime as dt\n",
    "import math\n",
    "import time"
   ]
  },
  {
   "cell_type": "code",
   "execution_count": 1,
   "metadata": {},
   "outputs": [
    {
     "output_type": "stream",
     "name": "stdout",
     "text": [
      "F:\\coding\\projects\\cowin\\smart-jab-data\n"
     ]
    }
   ],
   "source": [
    "%cd F:/coding/projects/cowin/smart-jab-data"
   ]
  },
  {
   "cell_type": "code",
   "execution_count": 43,
   "metadata": {},
   "outputs": [],
   "source": [
    "cityDoseCapacity18: {}"
   ]
  },
  {
   "cell_type": "code",
   "execution_count": 39,
   "metadata": {},
   "outputs": [],
   "source": [
    "df = pd.read_csv(\"./data/store/25/centers_top25.csv\")"
   ]
  },
  {
   "cell_type": "code",
   "execution_count": 40,
   "metadata": {},
   "outputs": [
    {
     "output_type": "execute_result",
     "data": {
      "text/plain": [
       "                        Center Name  Center ID          District  District ID  \\\n",
       "0    APOLLO HOSPITAL SHESHADRIPURAM     604866              BBMP          294   \n",
       "1                 KANVA DIAGNOSTIC1     568298              BBMP          294   \n",
       "2                 APOLLO HOSPITAL 1     566035              BBMP          294   \n",
       "3              ST THERESAS HOSPITAL     615727              BBMP          294   \n",
       "4         Apollo Clinic Indiranagar     636194              BBMP          294   \n",
       "..                              ...        ...               ...          ...   \n",
       "406   Fortis Escort Red Bldg Site 4     706727  South East Delhi          144   \n",
       "407      Indraprastha Apollo Site 1     561076  South East Delhi          144   \n",
       "408      Ayushman Hospital Health S     562762  South West Delhi          150   \n",
       "409                Aakash Healtcare     561060  South West Delhi          150   \n",
       "410   Human Care Medical Charitable     561056  South West Delhi          150   \n",
       "\n",
       "     PIN Code Paid/Free  Minimum Age     Vaccine  Dose Capacity  \\\n",
       "0      560020      Paid           18  COVISHIELD              0   \n",
       "1      560010      Paid           18  COVISHIELD            100   \n",
       "2      560076      Paid           18  COVISHIELD              0   \n",
       "3      560010      Paid           18  COVISHIELD            100   \n",
       "4      560038      Paid           18  COVISHIELD              0   \n",
       "..        ...       ...          ...         ...            ...   \n",
       "406    110025      Paid           18  COVISHIELD              0   \n",
       "407    110044      Paid           18  COVISHIELD              0   \n",
       "408    110078      Paid           18  COVISHIELD              0   \n",
       "409    110078      Paid           18  COVISHIELD            200   \n",
       "410    110077      Paid           18  COVISHIELD              0   \n",
       "\n",
       "     Predicted Time Range  ...  22-Oct  23-Oct  24-Oct  25-Oct  26-Oct  \\\n",
       "0                     NaN  ...     NaN     NaN     NaN     NaN     NaN   \n",
       "1                     NaN  ...     NaN     NaN     NaN     NaN     NaN   \n",
       "2                     NaN  ...     NaN     NaN     NaN     NaN     NaN   \n",
       "3                     NaN  ...     NaN     NaN     NaN     NaN     NaN   \n",
       "4                     NaN  ...     NaN     NaN     NaN     NaN     NaN   \n",
       "..                    ...  ...     ...     ...     ...     ...     ...   \n",
       "406                   NaN  ...     NaN     NaN     NaN     NaN     NaN   \n",
       "407                   NaN  ...     NaN     NaN     NaN     NaN     NaN   \n",
       "408                   NaN  ...     NaN     NaN     NaN     NaN     NaN   \n",
       "409                   NaN  ...     NaN     NaN     NaN     NaN     NaN   \n",
       "410                   NaN  ...     NaN     NaN     NaN     NaN     NaN   \n",
       "\n",
       "     27-Oct  28-Oct  29-Oct  30-Oct  31-Oct  \n",
       "0       NaN     NaN     NaN     NaN     NaN  \n",
       "1       NaN     NaN     NaN     NaN     NaN  \n",
       "2       NaN     NaN     NaN     NaN     NaN  \n",
       "3       NaN     NaN     NaN     NaN     NaN  \n",
       "4       NaN     NaN     NaN     NaN     NaN  \n",
       "..      ...     ...     ...     ...     ...  \n",
       "406     NaN     NaN     NaN     NaN     NaN  \n",
       "407     NaN     NaN     NaN     NaN     NaN  \n",
       "408     NaN     NaN     NaN     NaN     NaN  \n",
       "409     NaN     NaN     NaN     NaN     NaN  \n",
       "410     NaN     NaN     NaN     NaN     NaN  \n",
       "\n",
       "[411 rows x 170 columns]"
      ],
      "text/html": "<div>\n<style scoped>\n    .dataframe tbody tr th:only-of-type {\n        vertical-align: middle;\n    }\n\n    .dataframe tbody tr th {\n        vertical-align: top;\n    }\n\n    .dataframe thead th {\n        text-align: right;\n    }\n</style>\n<table border=\"1\" class=\"dataframe\">\n  <thead>\n    <tr style=\"text-align: right;\">\n      <th></th>\n      <th>Center Name</th>\n      <th>Center ID</th>\n      <th>District</th>\n      <th>District ID</th>\n      <th>PIN Code</th>\n      <th>Paid/Free</th>\n      <th>Minimum Age</th>\n      <th>Vaccine</th>\n      <th>Dose Capacity</th>\n      <th>Predicted Time Range</th>\n      <th>...</th>\n      <th>22-Oct</th>\n      <th>23-Oct</th>\n      <th>24-Oct</th>\n      <th>25-Oct</th>\n      <th>26-Oct</th>\n      <th>27-Oct</th>\n      <th>28-Oct</th>\n      <th>29-Oct</th>\n      <th>30-Oct</th>\n      <th>31-Oct</th>\n    </tr>\n  </thead>\n  <tbody>\n    <tr>\n      <th>0</th>\n      <td>APOLLO HOSPITAL SHESHADRIPURAM</td>\n      <td>604866</td>\n      <td>BBMP</td>\n      <td>294</td>\n      <td>560020</td>\n      <td>Paid</td>\n      <td>18</td>\n      <td>COVISHIELD</td>\n      <td>0</td>\n      <td>NaN</td>\n      <td>...</td>\n      <td>NaN</td>\n      <td>NaN</td>\n      <td>NaN</td>\n      <td>NaN</td>\n      <td>NaN</td>\n      <td>NaN</td>\n      <td>NaN</td>\n      <td>NaN</td>\n      <td>NaN</td>\n      <td>NaN</td>\n    </tr>\n    <tr>\n      <th>1</th>\n      <td>KANVA DIAGNOSTIC1</td>\n      <td>568298</td>\n      <td>BBMP</td>\n      <td>294</td>\n      <td>560010</td>\n      <td>Paid</td>\n      <td>18</td>\n      <td>COVISHIELD</td>\n      <td>100</td>\n      <td>NaN</td>\n      <td>...</td>\n      <td>NaN</td>\n      <td>NaN</td>\n      <td>NaN</td>\n      <td>NaN</td>\n      <td>NaN</td>\n      <td>NaN</td>\n      <td>NaN</td>\n      <td>NaN</td>\n      <td>NaN</td>\n      <td>NaN</td>\n    </tr>\n    <tr>\n      <th>2</th>\n      <td>APOLLO HOSPITAL 1</td>\n      <td>566035</td>\n      <td>BBMP</td>\n      <td>294</td>\n      <td>560076</td>\n      <td>Paid</td>\n      <td>18</td>\n      <td>COVISHIELD</td>\n      <td>0</td>\n      <td>NaN</td>\n      <td>...</td>\n      <td>NaN</td>\n      <td>NaN</td>\n      <td>NaN</td>\n      <td>NaN</td>\n      <td>NaN</td>\n      <td>NaN</td>\n      <td>NaN</td>\n      <td>NaN</td>\n      <td>NaN</td>\n      <td>NaN</td>\n    </tr>\n    <tr>\n      <th>3</th>\n      <td>ST THERESAS HOSPITAL</td>\n      <td>615727</td>\n      <td>BBMP</td>\n      <td>294</td>\n      <td>560010</td>\n      <td>Paid</td>\n      <td>18</td>\n      <td>COVISHIELD</td>\n      <td>100</td>\n      <td>NaN</td>\n      <td>...</td>\n      <td>NaN</td>\n      <td>NaN</td>\n      <td>NaN</td>\n      <td>NaN</td>\n      <td>NaN</td>\n      <td>NaN</td>\n      <td>NaN</td>\n      <td>NaN</td>\n      <td>NaN</td>\n      <td>NaN</td>\n    </tr>\n    <tr>\n      <th>4</th>\n      <td>Apollo Clinic Indiranagar</td>\n      <td>636194</td>\n      <td>BBMP</td>\n      <td>294</td>\n      <td>560038</td>\n      <td>Paid</td>\n      <td>18</td>\n      <td>COVISHIELD</td>\n      <td>0</td>\n      <td>NaN</td>\n      <td>...</td>\n      <td>NaN</td>\n      <td>NaN</td>\n      <td>NaN</td>\n      <td>NaN</td>\n      <td>NaN</td>\n      <td>NaN</td>\n      <td>NaN</td>\n      <td>NaN</td>\n      <td>NaN</td>\n      <td>NaN</td>\n    </tr>\n    <tr>\n      <th>...</th>\n      <td>...</td>\n      <td>...</td>\n      <td>...</td>\n      <td>...</td>\n      <td>...</td>\n      <td>...</td>\n      <td>...</td>\n      <td>...</td>\n      <td>...</td>\n      <td>...</td>\n      <td>...</td>\n      <td>...</td>\n      <td>...</td>\n      <td>...</td>\n      <td>...</td>\n      <td>...</td>\n      <td>...</td>\n      <td>...</td>\n      <td>...</td>\n      <td>...</td>\n      <td>...</td>\n    </tr>\n    <tr>\n      <th>406</th>\n      <td>Fortis Escort Red Bldg Site 4</td>\n      <td>706727</td>\n      <td>South East Delhi</td>\n      <td>144</td>\n      <td>110025</td>\n      <td>Paid</td>\n      <td>18</td>\n      <td>COVISHIELD</td>\n      <td>0</td>\n      <td>NaN</td>\n      <td>...</td>\n      <td>NaN</td>\n      <td>NaN</td>\n      <td>NaN</td>\n      <td>NaN</td>\n      <td>NaN</td>\n      <td>NaN</td>\n      <td>NaN</td>\n      <td>NaN</td>\n      <td>NaN</td>\n      <td>NaN</td>\n    </tr>\n    <tr>\n      <th>407</th>\n      <td>Indraprastha Apollo Site 1</td>\n      <td>561076</td>\n      <td>South East Delhi</td>\n      <td>144</td>\n      <td>110044</td>\n      <td>Paid</td>\n      <td>18</td>\n      <td>COVISHIELD</td>\n      <td>0</td>\n      <td>NaN</td>\n      <td>...</td>\n      <td>NaN</td>\n      <td>NaN</td>\n      <td>NaN</td>\n      <td>NaN</td>\n      <td>NaN</td>\n      <td>NaN</td>\n      <td>NaN</td>\n      <td>NaN</td>\n      <td>NaN</td>\n      <td>NaN</td>\n    </tr>\n    <tr>\n      <th>408</th>\n      <td>Ayushman Hospital Health S</td>\n      <td>562762</td>\n      <td>South West Delhi</td>\n      <td>150</td>\n      <td>110078</td>\n      <td>Paid</td>\n      <td>18</td>\n      <td>COVISHIELD</td>\n      <td>0</td>\n      <td>NaN</td>\n      <td>...</td>\n      <td>NaN</td>\n      <td>NaN</td>\n      <td>NaN</td>\n      <td>NaN</td>\n      <td>NaN</td>\n      <td>NaN</td>\n      <td>NaN</td>\n      <td>NaN</td>\n      <td>NaN</td>\n      <td>NaN</td>\n    </tr>\n    <tr>\n      <th>409</th>\n      <td>Aakash Healtcare</td>\n      <td>561060</td>\n      <td>South West Delhi</td>\n      <td>150</td>\n      <td>110078</td>\n      <td>Paid</td>\n      <td>18</td>\n      <td>COVISHIELD</td>\n      <td>200</td>\n      <td>NaN</td>\n      <td>...</td>\n      <td>NaN</td>\n      <td>NaN</td>\n      <td>NaN</td>\n      <td>NaN</td>\n      <td>NaN</td>\n      <td>NaN</td>\n      <td>NaN</td>\n      <td>NaN</td>\n      <td>NaN</td>\n      <td>NaN</td>\n    </tr>\n    <tr>\n      <th>410</th>\n      <td>Human Care Medical Charitable</td>\n      <td>561056</td>\n      <td>South West Delhi</td>\n      <td>150</td>\n      <td>110077</td>\n      <td>Paid</td>\n      <td>18</td>\n      <td>COVISHIELD</td>\n      <td>0</td>\n      <td>NaN</td>\n      <td>...</td>\n      <td>NaN</td>\n      <td>NaN</td>\n      <td>NaN</td>\n      <td>NaN</td>\n      <td>NaN</td>\n      <td>NaN</td>\n      <td>NaN</td>\n      <td>NaN</td>\n      <td>NaN</td>\n      <td>NaN</td>\n    </tr>\n  </tbody>\n</table>\n<p>411 rows × 170 columns</p>\n</div>"
     },
     "metadata": {},
     "execution_count": 40
    }
   ],
   "source": [
    "df"
   ]
  },
  {
   "cell_type": "code",
   "execution_count": null,
   "metadata": {},
   "outputs": [],
   "source": [
    "stateDoseCapacity188"
   ]
  },
  {
   "cell_type": "code",
   "execution_count": 38,
   "metadata": {},
   "outputs": [],
   "source": [
    "def roundup(x):\n",
    "    return int(math.ceil(x / 100.0)) * 100"
   ]
  },
  {
   "cell_type": "code",
   "execution_count": 35,
   "metadata": {},
   "outputs": [],
   "source": [
    "for index, row in df.iterrows():\n",
    "    currentDoseCapacity = int(df.loc[index, \"Dose Capacity\"])\n",
    "    "
   ]
  },
  {
   "cell_type": "code",
   "execution_count": 36,
   "metadata": {},
   "outputs": [],
   "source": [
    "df.to_csv(\"./centers_top100_hesitancy.csv\")"
   ]
  },
  {
   "cell_type": "code",
   "execution_count": null,
   "metadata": {},
   "outputs": [],
   "source": []
  }
 ]
}